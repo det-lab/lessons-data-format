{
 "cells": [
  {
   "cell_type": "code",
   "execution_count": 5,
   "metadata": {},
   "outputs": [
    {
     "ename": "SyntaxError",
     "evalue": "invalid syntax. Perhaps you forgot a comma? (773020989.py, line 54)",
     "output_type": "error",
     "traceback": [
      "\u001b[1;36m  Cell \u001b[1;32mIn[5], line 54\u001b[1;36m\u001b[0m\n\u001b[1;33m    f.write(struct.pack('I', len(full_data))\u001b[0m\n\u001b[1;37m            ^\u001b[0m\n\u001b[1;31mSyntaxError\u001b[0m\u001b[1;31m:\u001b[0m invalid syntax. Perhaps you forgot a comma?\n"
     ]
    }
   ],
   "source": [
    "import numpy as np\n",
    "import struct\n",
    "import matplotlib.pyplot as plt\n",
    "\n",
    "# Initialize arrays\n",
    "full_x = []\n",
    "full_y = []\n",
    "\n",
    "mid_x = []\n",
    "mid_y = []\n",
    "\n",
    "peak_x = []\n",
    "peak_y = []\n",
    "\n",
    "# Create example data\n",
    "for i in np.arange(-5,5,0.0001):\n",
    "  n = (np.cos((2 * np.pi * i**2)/(i**2 + i))) * np.sin(i)\n",
    "\n",
    "  # Put every calculated point in full_x and full_y\n",
    "  full_x.append(i)\n",
    "  full_y.append(n)\n",
    "\n",
    "  # Select only mid range points\n",
    "  if n**2 < 0.3:\n",
    "    mid_x.append(i)\n",
    "    mid_y.append(n)\n",
    "\n",
    "  # Select only extrema\n",
    "  if n**2 > 0.65:\n",
    "    peak_x.append(i)\n",
    "    peak_y.append(n)\n",
    "\n",
    "# Plot example graphs\n",
    "plt.scatter(full_x, full_y, s=1)\n",
    "plt.show()\n",
    "\n",
    "plt.scatter(mid_x, mid_y, s=1)\n",
    "plt.show()\n",
    "\n",
    "plt.scatter(peak_x, peak_y, s=1)\n",
    "plt.show()\n",
    "\n",
    "# Define datatype\n",
    "dtype = np.dtype([('string', 'S10'), ('float', np.float64)])\n",
    "\n",
    "# Use datatype to create arrays of data\n",
    "full_data = np.array([(f\"full_{index}\".encode('ascii'), value) for index, value in enumerate(full_y)], dtype=dtype)\n",
    "mid_data = np.array([(f\"mid_{index}\".encode('ascii'), value) for index, value in enumerate(mid_y)], dtype=dtype)\n",
    "peak_data = np.array([(f\"peak_{index}\".encode('ascii'), value) for index, value in enumerate(peak_y)], dtype=dtype)\n",
    "\n",
    "# Save data to binary file\n",
    "with open('wave_data.bin', 'wb') as f:\n",
    "  # Provide lengths of each array\n",
    "  f.write(struct.pack('I', len(full_data))\n",
    "  f.write(struct.pack('I', len(mid_data))\n",
    "  f.write(struct.pack('I', len(peak_data))\n",
    "  # Write each array onto the file\n",
    "  full_data.tofile(f)\n",
    "  mid_data.tofile(f)\n",
    "  peak_data.tofile(f)\n"
   ]
  },
  {
   "cell_type": "code",
   "execution_count": null,
   "metadata": {},
   "outputs": [],
   "source": []
  }
 ],
 "metadata": {
  "kernelspec": {
   "display_name": "Python 3",
   "language": "python",
   "name": "python3"
  },
  "language_info": {
   "codemirror_mode": {
    "name": "ipython",
    "version": 3
   },
   "file_extension": ".py",
   "mimetype": "text/x-python",
   "name": "python",
   "nbconvert_exporter": "python",
   "pygments_lexer": "ipython3",
   "version": "3.11.9"
  }
 },
 "nbformat": 4,
 "nbformat_minor": 2
}
